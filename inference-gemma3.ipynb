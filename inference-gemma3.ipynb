{
 "cells": [
  {
   "cell_type": "code",
   "execution_count": null,
   "metadata": {},
   "outputs": [],
   "source": [
    "from unsloth import FastModel\n",
    "from unsloth.chat_templates import get_chat_template\n",
    "import torch\n",
    "\n",
    "from transformers import TextStreamer"
   ]
  },
  {
   "cell_type": "code",
   "execution_count": 2,
   "metadata": {},
   "outputs": [],
   "source": [
    "# this model will OOM with 24 GB VRAM\n",
    "# base_model = \"unsloth/gemma-3-27b-it-unsloth-bnb-4bit\"\n",
    "base_model = \"unsloth/gemma-3-27b-it-bnb-4bit\"\n",
    "max_tokens = 2048\n",
    "\n",
    "tuned_model = f\"{base_model.replace('/', '_')}-qlora-social-media\"\n",
    "\n",
    "tuned_model_top_dir = f\"model_{tuned_model}\"\n",
    "tuned_model_save_dir = f\"{tuned_model_top_dir}/model_save\"\n",
    "tuned_model_gguf_dir = f\"{tuned_model_top_dir}/model_gguf\"\n",
    "tuned_model_checkpoints_dir = f\"{tuned_model_top_dir}/checkpoints\"\n",
    "tuned_model_logs_dir = f\"{tuned_model_top_dir}/logs\""
   ]
  },
  {
   "cell_type": "code",
   "execution_count": null,
   "metadata": {},
   "outputs": [],
   "source": [
    "# tuned_model_save_dir still requires the base model shards to be present in the HF cache\n",
    "# or else they will be downloaded all over again\n",
    "# (because save_dir only has the QLoRA weights, which are not the full model)\n",
    "model, tokenizer = FastModel.from_pretrained(\n",
    "    model_name=tuned_model_save_dir,\n",
    "    # model_name=base_model,\n",
    "    max_seq_length=max_tokens,\n",
    "    dtype=None,\n",
    "    load_in_4bit=True,\n",
    "    load_in_8bit=False,\n",
    "    full_finetuning=False,\n",
    "    # use_exact_model_name=True\n",
    ")\n",
    "FastModel.for_inference(model)"
   ]
  },
  {
   "cell_type": "code",
   "execution_count": 4,
   "metadata": {},
   "outputs": [],
   "source": [
    "tokenizer = get_chat_template(\n",
    "    tokenizer,\n",
    "    chat_template=\"gemma-3\",\n",
    ")"
   ]
  },
  {
   "cell_type": "code",
   "execution_count": null,
   "metadata": {},
   "outputs": [],
   "source": [
    "messages = [\n",
    "    {\n",
    "        \"role\": \"user\",\n",
    "        \"content\": [\n",
    "            {\n",
    "                \"type\": \"text\",\n",
    "                \"text\": \"What did you study?\",\n",
    "            }\n",
    "        ],\n",
    "    }\n",
    "]\n",
    "text = tokenizer.apply_chat_template(\n",
    "    messages,\n",
    "    add_generation_prompt=True,\n",
    ")\n",
    "\n",
    "_ = model.generate(\n",
    "    **tokenizer([text], return_tensors=\"pt\").to(\"cuda\"),\n",
    "    max_new_tokens=max_tokens,\n",
    "    temperature=1.0,\n",
    "    top_p=0.95,\n",
    "    min_p=0.0,\n",
    "    top_k=64,\n",
    "    streamer=TextStreamer(tokenizer, skip_prompt=True),\n",
    ")"
   ]
  },
  {
   "cell_type": "code",
   "execution_count": null,
   "metadata": {},
   "outputs": [],
   "source": []
  }
 ],
 "metadata": {
  "kernelspec": {
   "display_name": ".venv",
   "language": "python",
   "name": "python3"
  },
  "language_info": {
   "codemirror_mode": {
    "name": "ipython",
    "version": 3
   },
   "file_extension": ".py",
   "mimetype": "text/x-python",
   "name": "python",
   "nbconvert_exporter": "python",
   "pygments_lexer": "ipython3",
   "version": "3.12.3"
  }
 },
 "nbformat": 4,
 "nbformat_minor": 2
}
