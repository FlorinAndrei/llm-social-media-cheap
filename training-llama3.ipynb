{
 "cells": [
  {
   "cell_type": "code",
   "execution_count": null,
   "metadata": {},
   "outputs": [],
   "source": [
    "from unsloth import FastLanguageModel, is_bfloat16_supported\n",
    "import torch\n",
    "from datasets import load_dataset\n",
    "\n",
    "from trl import SFTTrainer\n",
    "from transformers import TrainingArguments\n",
    "\n",
    "import json\n",
    "import os"
   ]
  },
  {
   "cell_type": "code",
   "execution_count": 2,
   "metadata": {},
   "outputs": [],
   "source": [
    "# base_model = \"unsloth/Meta-Llama-3.1-8B-Instruct-bnb-4bit\"\n",
    "base_model = \"unsloth/meta-llama-3.1-8b-instruct-bnb-4bit\"\n",
    "\n",
    "max_seq_length = 2048\n",
    "\n",
    "tuned_model = f\"{base_model.replace('/', '_')}-qlora-social-media\"\n",
    "\n",
    "tuned_model_top_dir = f\"model_{tuned_model}\"\n",
    "tuned_model_save_dir = f\"{tuned_model_top_dir}/model_save\"\n",
    "tuned_model_gguf_dir = f\"{tuned_model_top_dir}/model_gguf\"\n",
    "tuned_model_checkpoints_dir = f\"{tuned_model_top_dir}/checkpoints\"\n",
    "tuned_model_logs_dir = f\"{tuned_model_top_dir}/logs\"\n",
    "\n",
    "os.makedirs(tuned_model_top_dir, exist_ok=True)"
   ]
  },
  {
   "cell_type": "code",
   "execution_count": null,
   "metadata": {},
   "outputs": [],
   "source": [
    "model, tokenizer = FastLanguageModel.from_pretrained(\n",
    "    model_name=base_model,\n",
    "    max_seq_length=max_seq_length,\n",
    "    dtype=None,\n",
    "    load_in_4bit=True,\n",
    "    load_in_8bit=False,\n",
    "    full_finetuning=False,\n",
    "    # use_exact_model_name=True\n",
    ")"
   ]
  },
  {
   "cell_type": "code",
   "execution_count": null,
   "metadata": {},
   "outputs": [],
   "source": [
    "model = FastLanguageModel.get_peft_model(\n",
    "    model,\n",
    "    r=16,\n",
    "    target_modules=[\n",
    "        \"q_proj\",\n",
    "        \"k_proj\",\n",
    "        \"v_proj\",\n",
    "        \"o_proj\",\n",
    "        \"gate_proj\",\n",
    "        \"up_proj\",\n",
    "        \"down_proj\",\n",
    "    ],\n",
    "    lora_alpha=16,\n",
    "    lora_dropout=0.05,\n",
    "    bias=\"none\",\n",
    "    use_gradient_checkpointing=\"unsloth\",\n",
    "    random_state=42,\n",
    "    use_rslora=True,\n",
    "    loftq_config=None,\n",
    ")"
   ]
  },
  {
   "cell_type": "code",
   "execution_count": null,
   "metadata": {},
   "outputs": [],
   "source": [
    "n_example = 4\n",
    "\n",
    "dataset = load_dataset(\"csv\", name=\"csv-for-llama3.1\", split=\"train\", data_files=\"conversations.csv\")\n",
    "dataset = dataset.shuffle(seed=42)\n",
    "print(dataset.column_names)\n",
    "print(json.dumps(dataset[n_example], indent=2))\n",
    "print()\n",
    "\n",
    "alpaca_prompt = \"\"\"You are a social media user. Respond to the comment you are shown.\n",
    "\n",
    "### Instruction:\n",
    "{}\n",
    "\n",
    "### Response:\n",
    "{}\"\"\"\n",
    "\n",
    "EOS_TOKEN = tokenizer.eos_token\n",
    "BOS_TOKEN = tokenizer.bos_token\n",
    "\n",
    "\n",
    "def formatting_prompts_func(examples):\n",
    "    instructions = examples[\"parent_text\"]\n",
    "    outputs = examples[\"comment_body\"]\n",
    "    texts = []\n",
    "    for instruction, output in zip(instructions, outputs):\n",
    "        # Must add EOS_TOKEN, otherwise your generation will go on forever!\n",
    "        text = BOS_TOKEN + alpaca_prompt.format(instruction, output) + EOS_TOKEN\n",
    "        texts.append(text)\n",
    "    return {\n",
    "        \"text\": texts,\n",
    "    }\n",
    "\n",
    "\n",
    "dataset = dataset.map(\n",
    "    formatting_prompts_func,\n",
    "    batched=True,\n",
    ")\n",
    "dataset = dataset.remove_columns([\"timestamp\", \"comment_id\", \"parent_text\", \"comment_body\"])\n",
    "print(json.dumps(dataset[n_example], indent=2))"
   ]
  },
  {
   "cell_type": "code",
   "execution_count": null,
   "metadata": {},
   "outputs": [],
   "source": [
    "dataset_length = len(dataset)\n",
    "batch_size = 2\n",
    "accum_steps = 4\n",
    "\n",
    "training_steps = dataset_length // (batch_size * accum_steps)\n",
    "warmup_steps = training_steps // 10\n",
    "\n",
    "print(f\"dataset length: {dataset_length}\")\n",
    "print(f\"training steps: {training_steps}\")\n",
    "print(f\"warmup steps:   {warmup_steps}\")"
   ]
  },
  {
   "cell_type": "code",
   "execution_count": null,
   "metadata": {},
   "outputs": [],
   "source": [
    "trainer = SFTTrainer(\n",
    "    model=model,\n",
    "    tokenizer=tokenizer,\n",
    "    train_dataset=dataset,\n",
    "    dataset_text_field=\"text\",\n",
    "    max_seq_length=max_seq_length,\n",
    "    dataset_num_proc=2,\n",
    "    packing=False,\n",
    "    args=TrainingArguments(\n",
    "        # adjust batch size and gradient steps for the size of the model\n",
    "        per_device_train_batch_size=batch_size,\n",
    "        gradient_accumulation_steps=accum_steps,\n",
    "        save_strategy=\"steps\",\n",
    "        logging_steps=1,\n",
    "        logging_strategy=\"steps\",\n",
    "        #\n",
    "        # full training run\n",
    "        #\n",
    "        num_train_epochs=1,\n",
    "        warmup_steps=warmup_steps,\n",
    "        save_steps=500,\n",
    "        #\n",
    "        # short training run\n",
    "        #\n",
    "        # max_steps=50,\n",
    "        # warmup_steps=5,\n",
    "        # save_steps=10,\n",
    "        #\n",
    "        # end of training run length definition\n",
    "        learning_rate=1e-4,\n",
    "        fp16=not is_bfloat16_supported(),\n",
    "        bf16=is_bfloat16_supported(),\n",
    "        optim=\"adamw_8bit\",\n",
    "        weight_decay=0.01,\n",
    "        lr_scheduler_type=\"linear\",\n",
    "        seed=42,\n",
    "        output_dir=tuned_model_checkpoints_dir,\n",
    "    ),\n",
    ")"
   ]
  },
  {
   "cell_type": "code",
   "execution_count": null,
   "metadata": {},
   "outputs": [],
   "source": [
    "# if any f\"outputs/checkpoint-*\" exists, resume from it\n",
    "if any(f.startswith(\"checkpoint-\") for f in os.listdir(tuned_model_checkpoints_dir)):\n",
    "    print(\"Resuming from checkpoint\")\n",
    "    trainer_stats = trainer.train(resume_from_checkpoint=True)\n",
    "else:\n",
    "    print(\"Starting from scratch\")\n",
    "    trainer_stats = trainer.train()"
   ]
  },
  {
   "cell_type": "code",
   "execution_count": null,
   "metadata": {},
   "outputs": [],
   "source": [
    "model.save_pretrained(tuned_model_save_dir)\n",
    "tokenizer.save_pretrained(tuned_model_save_dir)"
   ]
  },
  {
   "cell_type": "markdown",
   "metadata": {},
   "source": [
    "Generating an Ollama-compatible GGUF also requires the creation of a Modelfile.\n",
    "\n",
    "To automate the creation of the Modelfile, you must at some point before here run `tokenizer.apply_chat_template()`. This notebook does not do that. Therefore, you must create the Modelfile manually.\n",
    "\n",
    "Look at the Gemma 3 notebook for hints."
   ]
  },
  {
   "cell_type": "code",
   "execution_count": 10,
   "metadata": {},
   "outputs": [],
   "source": [
    "model.save_pretrained_gguf(tuned_model_gguf_dir, tokenizer, quantization_method=\"q4_0\")"
   ]
  },
  {
   "cell_type": "code",
   "execution_count": null,
   "metadata": {},
   "outputs": [],
   "source": [
    "print(json.dumps(trainer_stats.metrics, indent=2))"
   ]
  },
  {
   "cell_type": "code",
   "execution_count": null,
   "metadata": {},
   "outputs": [],
   "source": []
  }
 ],
 "metadata": {
  "kernelspec": {
   "display_name": ".venv",
   "language": "python",
   "name": "python3"
  },
  "language_info": {
   "codemirror_mode": {
    "name": "ipython",
    "version": 3
   },
   "file_extension": ".py",
   "mimetype": "text/x-python",
   "name": "python",
   "nbconvert_exporter": "python",
   "pygments_lexer": "ipython3",
   "version": "3.12.3"
  }
 },
 "nbformat": 4,
 "nbformat_minor": 2
}
